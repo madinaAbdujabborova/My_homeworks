{
 "cells": [
  {
   "cell_type": "code",
   "execution_count": 4,
   "metadata": {},
   "outputs": [
    {
     "data": {
      "text/html": [
       "<div>\n",
       "<style scoped>\n",
       "    .dataframe tbody tr th:only-of-type {\n",
       "        vertical-align: middle;\n",
       "    }\n",
       "\n",
       "    .dataframe tbody tr th {\n",
       "        vertical-align: top;\n",
       "    }\n",
       "\n",
       "    .dataframe thead th {\n",
       "        text-align: right;\n",
       "    }\n",
       "</style>\n",
       "<table border=\"1\" class=\"dataframe\">\n",
       "  <thead>\n",
       "    <tr style=\"text-align: right;\">\n",
       "      <th></th>\n",
       "      <th>PatientID</th>\n",
       "      <th>Age</th>\n",
       "      <th>Gender</th>\n",
       "      <th>Ethnicity</th>\n",
       "      <th>EducationLevel</th>\n",
       "      <th>BMI</th>\n",
       "      <th>Smoking</th>\n",
       "      <th>PhysicalActivity</th>\n",
       "      <th>DietQuality</th>\n",
       "      <th>SleepQuality</th>\n",
       "      <th>...</th>\n",
       "      <th>LungFunctionFEV1</th>\n",
       "      <th>LungFunctionFVC</th>\n",
       "      <th>Wheezing</th>\n",
       "      <th>ShortnessOfBreath</th>\n",
       "      <th>ChestTightness</th>\n",
       "      <th>Coughing</th>\n",
       "      <th>NighttimeSymptoms</th>\n",
       "      <th>ExerciseInduced</th>\n",
       "      <th>Diagnosis</th>\n",
       "      <th>DoctorInCharge</th>\n",
       "    </tr>\n",
       "  </thead>\n",
       "  <tbody>\n",
       "    <tr>\n",
       "      <th>0</th>\n",
       "      <td>5034</td>\n",
       "      <td>63</td>\n",
       "      <td>0</td>\n",
       "      <td>1</td>\n",
       "      <td>0</td>\n",
       "      <td>15.848744</td>\n",
       "      <td>0</td>\n",
       "      <td>0.894448</td>\n",
       "      <td>5.488696</td>\n",
       "      <td>8.701003</td>\n",
       "      <td>...</td>\n",
       "      <td>1.369051</td>\n",
       "      <td>4.941206</td>\n",
       "      <td>0</td>\n",
       "      <td>0</td>\n",
       "      <td>1</td>\n",
       "      <td>0</td>\n",
       "      <td>0</td>\n",
       "      <td>1</td>\n",
       "      <td>0</td>\n",
       "      <td>Dr_Confid</td>\n",
       "    </tr>\n",
       "    <tr>\n",
       "      <th>1</th>\n",
       "      <td>5035</td>\n",
       "      <td>26</td>\n",
       "      <td>1</td>\n",
       "      <td>2</td>\n",
       "      <td>2</td>\n",
       "      <td>22.757042</td>\n",
       "      <td>0</td>\n",
       "      <td>5.897329</td>\n",
       "      <td>6.341014</td>\n",
       "      <td>5.153966</td>\n",
       "      <td>...</td>\n",
       "      <td>2.197767</td>\n",
       "      <td>1.702393</td>\n",
       "      <td>1</td>\n",
       "      <td>0</td>\n",
       "      <td>0</td>\n",
       "      <td>1</td>\n",
       "      <td>1</td>\n",
       "      <td>1</td>\n",
       "      <td>0</td>\n",
       "      <td>Dr_Confid</td>\n",
       "    </tr>\n",
       "    <tr>\n",
       "      <th>2</th>\n",
       "      <td>5036</td>\n",
       "      <td>57</td>\n",
       "      <td>0</td>\n",
       "      <td>2</td>\n",
       "      <td>1</td>\n",
       "      <td>18.395396</td>\n",
       "      <td>0</td>\n",
       "      <td>6.739367</td>\n",
       "      <td>9.196237</td>\n",
       "      <td>6.840647</td>\n",
       "      <td>...</td>\n",
       "      <td>1.698011</td>\n",
       "      <td>5.022553</td>\n",
       "      <td>1</td>\n",
       "      <td>1</td>\n",
       "      <td>1</td>\n",
       "      <td>0</td>\n",
       "      <td>1</td>\n",
       "      <td>1</td>\n",
       "      <td>0</td>\n",
       "      <td>Dr_Confid</td>\n",
       "    </tr>\n",
       "    <tr>\n",
       "      <th>3</th>\n",
       "      <td>5037</td>\n",
       "      <td>40</td>\n",
       "      <td>1</td>\n",
       "      <td>2</td>\n",
       "      <td>1</td>\n",
       "      <td>38.515278</td>\n",
       "      <td>0</td>\n",
       "      <td>1.404503</td>\n",
       "      <td>5.826532</td>\n",
       "      <td>4.253036</td>\n",
       "      <td>...</td>\n",
       "      <td>3.032037</td>\n",
       "      <td>2.300159</td>\n",
       "      <td>1</td>\n",
       "      <td>0</td>\n",
       "      <td>1</td>\n",
       "      <td>1</td>\n",
       "      <td>1</td>\n",
       "      <td>0</td>\n",
       "      <td>0</td>\n",
       "      <td>Dr_Confid</td>\n",
       "    </tr>\n",
       "    <tr>\n",
       "      <th>4</th>\n",
       "      <td>5038</td>\n",
       "      <td>61</td>\n",
       "      <td>0</td>\n",
       "      <td>0</td>\n",
       "      <td>3</td>\n",
       "      <td>19.283802</td>\n",
       "      <td>0</td>\n",
       "      <td>4.604493</td>\n",
       "      <td>3.127048</td>\n",
       "      <td>9.625799</td>\n",
       "      <td>...</td>\n",
       "      <td>3.470589</td>\n",
       "      <td>3.067944</td>\n",
       "      <td>1</td>\n",
       "      <td>1</td>\n",
       "      <td>1</td>\n",
       "      <td>0</td>\n",
       "      <td>0</td>\n",
       "      <td>1</td>\n",
       "      <td>0</td>\n",
       "      <td>Dr_Confid</td>\n",
       "    </tr>\n",
       "    <tr>\n",
       "      <th>...</th>\n",
       "      <td>...</td>\n",
       "      <td>...</td>\n",
       "      <td>...</td>\n",
       "      <td>...</td>\n",
       "      <td>...</td>\n",
       "      <td>...</td>\n",
       "      <td>...</td>\n",
       "      <td>...</td>\n",
       "      <td>...</td>\n",
       "      <td>...</td>\n",
       "      <td>...</td>\n",
       "      <td>...</td>\n",
       "      <td>...</td>\n",
       "      <td>...</td>\n",
       "      <td>...</td>\n",
       "      <td>...</td>\n",
       "      <td>...</td>\n",
       "      <td>...</td>\n",
       "      <td>...</td>\n",
       "      <td>...</td>\n",
       "      <td>...</td>\n",
       "    </tr>\n",
       "    <tr>\n",
       "      <th>2387</th>\n",
       "      <td>7421</td>\n",
       "      <td>43</td>\n",
       "      <td>1</td>\n",
       "      <td>0</td>\n",
       "      <td>2</td>\n",
       "      <td>29.059613</td>\n",
       "      <td>0</td>\n",
       "      <td>3.019854</td>\n",
       "      <td>6.119637</td>\n",
       "      <td>8.300960</td>\n",
       "      <td>...</td>\n",
       "      <td>3.125249</td>\n",
       "      <td>5.166032</td>\n",
       "      <td>0</td>\n",
       "      <td>1</td>\n",
       "      <td>0</td>\n",
       "      <td>0</td>\n",
       "      <td>0</td>\n",
       "      <td>1</td>\n",
       "      <td>1</td>\n",
       "      <td>Dr_Confid</td>\n",
       "    </tr>\n",
       "    <tr>\n",
       "      <th>2388</th>\n",
       "      <td>7422</td>\n",
       "      <td>18</td>\n",
       "      <td>1</td>\n",
       "      <td>0</td>\n",
       "      <td>1</td>\n",
       "      <td>20.740850</td>\n",
       "      <td>0</td>\n",
       "      <td>5.805180</td>\n",
       "      <td>4.386992</td>\n",
       "      <td>7.731192</td>\n",
       "      <td>...</td>\n",
       "      <td>1.132977</td>\n",
       "      <td>5.509502</td>\n",
       "      <td>0</td>\n",
       "      <td>0</td>\n",
       "      <td>0</td>\n",
       "      <td>1</td>\n",
       "      <td>1</td>\n",
       "      <td>0</td>\n",
       "      <td>1</td>\n",
       "      <td>Dr_Confid</td>\n",
       "    </tr>\n",
       "    <tr>\n",
       "      <th>2389</th>\n",
       "      <td>7423</td>\n",
       "      <td>54</td>\n",
       "      <td>0</td>\n",
       "      <td>3</td>\n",
       "      <td>2</td>\n",
       "      <td>37.079560</td>\n",
       "      <td>0</td>\n",
       "      <td>4.735169</td>\n",
       "      <td>8.214064</td>\n",
       "      <td>7.483521</td>\n",
       "      <td>...</td>\n",
       "      <td>1.685962</td>\n",
       "      <td>3.346877</td>\n",
       "      <td>1</td>\n",
       "      <td>0</td>\n",
       "      <td>1</td>\n",
       "      <td>1</td>\n",
       "      <td>0</td>\n",
       "      <td>1</td>\n",
       "      <td>1</td>\n",
       "      <td>Dr_Confid</td>\n",
       "    </tr>\n",
       "    <tr>\n",
       "      <th>2390</th>\n",
       "      <td>7424</td>\n",
       "      <td>46</td>\n",
       "      <td>1</td>\n",
       "      <td>0</td>\n",
       "      <td>2</td>\n",
       "      <td>23.444712</td>\n",
       "      <td>0</td>\n",
       "      <td>9.672637</td>\n",
       "      <td>7.362861</td>\n",
       "      <td>6.717272</td>\n",
       "      <td>...</td>\n",
       "      <td>3.481549</td>\n",
       "      <td>1.713274</td>\n",
       "      <td>0</td>\n",
       "      <td>1</td>\n",
       "      <td>1</td>\n",
       "      <td>0</td>\n",
       "      <td>1</td>\n",
       "      <td>1</td>\n",
       "      <td>0</td>\n",
       "      <td>Dr_Confid</td>\n",
       "    </tr>\n",
       "    <tr>\n",
       "      <th>2391</th>\n",
       "      <td>7425</td>\n",
       "      <td>26</td>\n",
       "      <td>1</td>\n",
       "      <td>0</td>\n",
       "      <td>0</td>\n",
       "      <td>28.123021</td>\n",
       "      <td>1</td>\n",
       "      <td>1.613138</td>\n",
       "      <td>7.412878</td>\n",
       "      <td>8.512253</td>\n",
       "      <td>...</td>\n",
       "      <td>2.280613</td>\n",
       "      <td>2.453284</td>\n",
       "      <td>1</td>\n",
       "      <td>1</td>\n",
       "      <td>0</td>\n",
       "      <td>0</td>\n",
       "      <td>1</td>\n",
       "      <td>0</td>\n",
       "      <td>0</td>\n",
       "      <td>Dr_Confid</td>\n",
       "    </tr>\n",
       "  </tbody>\n",
       "</table>\n",
       "<p>2392 rows × 29 columns</p>\n",
       "</div>"
      ],
      "text/plain": [
       "      PatientID  Age  Gender  Ethnicity  EducationLevel        BMI  Smoking  \\\n",
       "0          5034   63       0          1               0  15.848744        0   \n",
       "1          5035   26       1          2               2  22.757042        0   \n",
       "2          5036   57       0          2               1  18.395396        0   \n",
       "3          5037   40       1          2               1  38.515278        0   \n",
       "4          5038   61       0          0               3  19.283802        0   \n",
       "...         ...  ...     ...        ...             ...        ...      ...   \n",
       "2387       7421   43       1          0               2  29.059613        0   \n",
       "2388       7422   18       1          0               1  20.740850        0   \n",
       "2389       7423   54       0          3               2  37.079560        0   \n",
       "2390       7424   46       1          0               2  23.444712        0   \n",
       "2391       7425   26       1          0               0  28.123021        1   \n",
       "\n",
       "      PhysicalActivity  DietQuality  SleepQuality  ...  LungFunctionFEV1  \\\n",
       "0             0.894448     5.488696      8.701003  ...          1.369051   \n",
       "1             5.897329     6.341014      5.153966  ...          2.197767   \n",
       "2             6.739367     9.196237      6.840647  ...          1.698011   \n",
       "3             1.404503     5.826532      4.253036  ...          3.032037   \n",
       "4             4.604493     3.127048      9.625799  ...          3.470589   \n",
       "...                ...          ...           ...  ...               ...   \n",
       "2387          3.019854     6.119637      8.300960  ...          3.125249   \n",
       "2388          5.805180     4.386992      7.731192  ...          1.132977   \n",
       "2389          4.735169     8.214064      7.483521  ...          1.685962   \n",
       "2390          9.672637     7.362861      6.717272  ...          3.481549   \n",
       "2391          1.613138     7.412878      8.512253  ...          2.280613   \n",
       "\n",
       "      LungFunctionFVC  Wheezing  ShortnessOfBreath  ChestTightness  Coughing  \\\n",
       "0            4.941206         0                  0               1         0   \n",
       "1            1.702393         1                  0               0         1   \n",
       "2            5.022553         1                  1               1         0   \n",
       "3            2.300159         1                  0               1         1   \n",
       "4            3.067944         1                  1               1         0   \n",
       "...               ...       ...                ...             ...       ...   \n",
       "2387         5.166032         0                  1               0         0   \n",
       "2388         5.509502         0                  0               0         1   \n",
       "2389         3.346877         1                  0               1         1   \n",
       "2390         1.713274         0                  1               1         0   \n",
       "2391         2.453284         1                  1               0         0   \n",
       "\n",
       "      NighttimeSymptoms  ExerciseInduced  Diagnosis  DoctorInCharge  \n",
       "0                     0                1          0       Dr_Confid  \n",
       "1                     1                1          0       Dr_Confid  \n",
       "2                     1                1          0       Dr_Confid  \n",
       "3                     1                0          0       Dr_Confid  \n",
       "4                     0                1          0       Dr_Confid  \n",
       "...                 ...              ...        ...             ...  \n",
       "2387                  0                1          1       Dr_Confid  \n",
       "2388                  1                0          1       Dr_Confid  \n",
       "2389                  0                1          1       Dr_Confid  \n",
       "2390                  1                1          0       Dr_Confid  \n",
       "2391                  1                0          0       Dr_Confid  \n",
       "\n",
       "[2392 rows x 29 columns]"
      ]
     },
     "execution_count": 4,
     "metadata": {},
     "output_type": "execute_result"
    }
   ],
   "source": [
    "import pandas as pd\n",
    "df = pd.read_csv(\"asthma_disease_data.csv\")\n",
    "df"
   ]
  },
  {
   "cell_type": "code",
   "execution_count": 3,
   "metadata": {},
   "outputs": [],
   "source": [
    "import matplotlib.pyplot as plt"
   ]
  },
  {
   "cell_type": "markdown",
   "metadata": {},
   "source": [
    "### Problem 1: Age Distribution\n",
    "Create a histogram to visualize the distribution of ages in the dataset."
   ]
  },
  {
   "cell_type": "code",
   "execution_count": 13,
   "metadata": {},
   "outputs": [
    {
     "data": {
      "image/png": "[encoded data removed]",
      "text/plain": [
       "<Figure size 640x480 with 1 Axes>"
      ]
     },
     "metadata": {},
     "output_type": "display_data"
    }
   ],
   "source": [
    "fig, ax = plt.subplots()\n",
    "\n",
    "younger = df['Age'] < 40\n",
    "older = df['Age'] >= 40\n",
    "\n",
    "ax.hist(df[younger][\"Age\"], histtype='stepfilled', label='Younger')\n",
    "ax.hist(df[older][\"Age\"], histtype='stepfilled', label='Older')\n",
    "\n",
    "ax.set_xlabel(\"Age\")\n",
    "ax.set_ylabel(\"# of observation\")\n",
    "\n",
    "plt.legend()\n",
    "plt.show()"
   ]
  },
  {
   "cell_type": "markdown",
   "metadata": {},
   "source": [
    "#### Hulosa qilib aytadigan bo'lsak astma kasalligi bilan kasallanganlarni yarimidan ko'prog'i 40 yoshdan yuqorilar hisoblanishadi. "
   ]
  },
  {
   "cell_type": "markdown",
   "metadata": {},
   "source": [
    "### Problem 2: Gender vs. Asthma Diagnosis\n",
    "Create a bar chart to show the count of asthma diagnoses (0 or 1) for each gender."
   ]
  },
  {
   "cell_type": "code",
   "execution_count": 20,
   "metadata": {},
   "outputs": [
    {
     "data": {
      "text/plain": [
       "Text(0, 0.5, '# of patient')"
      ]
     },
     "execution_count": 20,
     "metadata": {},
     "output_type": "execute_result"
    },
    {
     "data": {
      "image/png": "[encoded data removed]",
      "text/plain": [
       "<Figure size 640x480 with 1 Axes>"
      ]
     },
     "metadata": {},
     "output_type": "display_data"
    }
   ],
   "source": [
    "fig, ax = plt.subplots()\n",
    "\n",
    "male = df[df[\"Gender\"] == 0][\"Gender\"]\n",
    "female = df[df[\"Gender\"] == 1][\"Gender\"]\n",
    "\n",
    "ax.bar(\"Male\", male.value_counts())\n",
    "ax.bar(\"Female\", female.value_counts())\n",
    "\n",
    "ax.set_ylabel(\"# of patient\")"
   ]
  },
  {
   "cell_type": "markdown",
   "metadata": {},
   "source": [
    "#### Hulosa: Astma kasalligining tarqalishi jinsga bog'liq emas ya'ni, kasallanish ehtimolligi erkaklar va ayollar uchun bir xil."
   ]
  },
  {
   "cell_type": "markdown",
   "metadata": {},
   "source": [
    "### Problem 3: Sleep Quality Distribution by Diagnosis\n",
    "Create box plots to compare the distribution of sleep quality between patients diagnosed with asthma (1) and those not diagnosed with asthma (0)."
   ]
  },
  {
   "cell_type": "code",
   "execution_count": 80,
   "metadata": {},
   "outputs": [
    {
     "data": {
      "text/plain": [
       "Text(0, 0.5, 'Avg sleep quality')"
      ]
     },
     "execution_count": 80,
     "metadata": {},
     "output_type": "execute_result"
    },
    {
     "data": {
      "image/png": "[encoded data removed]",
      "text/plain": [
       "<Figure size 640x480 with 1 Axes>"
      ]
     },
     "metadata": {},
     "output_type": "display_data"
    }
   ],
   "source": [
    "diagnosis_yes = df[df[\"Diagnosis\"] == 1]\n",
    "diagnosis_no = df[df[\"Diagnosis\"] == 0]\n",
    "\n",
    "fig, ax = plt.subplots()\n",
    "\n",
    "ax.bar(\"Diagnosed\", diagnosis_yes[\"SleepQuality\"].mean())\n",
    "ax.bar(\"Not diagnosed\", diagnosis_no[\"SleepQuality\"].mean())\n",
    "\n",
    "ax.set_title(\"Sleep quality\")\n",
    "ax.set_ylabel(\"Avg sleep quality\")"
   ]
  },
  {
   "cell_type": "code",
   "execution_count": 83,
   "metadata": {},
   "outputs": [
    {
     "data": {
      "text/plain": [
       "Text(0, 0.5, 'Sleep quality')"
      ]
     },
     "execution_count": 83,
     "metadata": {},
     "output_type": "execute_result"
    },
    {
     "data": {
      "image/png": "[encoded data removed]",
      "text/plain": [
       "<Figure size 640x480 with 1 Axes>"
      ]
     },
     "metadata": {},
     "output_type": "display_data"
    }
   ],
   "source": [
    "diagnosis_yes = df[df[\"Diagnosis\"] == 1]\n",
    "diagnosis_no = df[df[\"Diagnosis\"] == 0]\n",
    "\n",
    "fig, ax = plt.subplots()\n",
    "\n",
    "ax.boxplot([diagnosis_yes[\"SleepQuality\"], diagnosis_no[\"SleepQuality\"]])\n",
    "ax.set_xticklabels([\"Diagnosed\", \"Not diagnosed\"])\n",
    "\n",
    "ax.set_title(\"Sleep quality\")\n",
    "ax.set_ylabel(\"Sleep quality\")"
   ]
  },
  {
   "cell_type": "markdown",
   "metadata": {},
   "source": [
    "#### Sleep quality range from 4 to 10 ligini hisobga olsak diagnoz qilingan va qilinmagan bemorlarda uxlash sifati yaxshi holatda. Bar chartdan ko'rinib turiptiki Kasallik sleep qualityga kuchli ta'sir qilmaydi degan hulosaga kelish mumkin."
   ]
  },
  {
   "cell_type": "markdown",
   "metadata": {},
   "source": [
    "### Problem 4: BMI Categories vs. Lung Function (FEV1)\n",
    "Create box plots to compare the lung function (FEV1) across different BMI categories. You can define BMI categories such as underweight, normal weight, overweight, and obese."
   ]
  },
  {
   "cell_type": "code",
   "execution_count": 77,
   "metadata": {},
   "outputs": [],
   "source": [
    "underweight = df[df[\"BMI\"] < 18.5]\n",
    "\n",
    "upper = df[\"BMI\"] > 18.5\n",
    "under = df[\"BMI\"] < 24.9\n",
    "normal_weight = df[upper & under]\n",
    "\n",
    "upper2 = df[\"BMI\"] > 25\n",
    "under2 = df[\"BMI\"] < 29.9\n",
    "overweight = df[upper & under]\n",
    "\n",
    "obese = df[df[\"BMI\"] > 30]\n",
    "\n"
   ]
  },
  {
   "cell_type": "code",
   "execution_count": 78,
   "metadata": {},
   "outputs": [
    {
     "data": {
      "image/png": "[encoded data removed]",
      "text/plain": [
       "<Figure size 640x480 with 1 Axes>"
      ]
     },
     "metadata": {},
     "output_type": "display_data"
    }
   ],
   "source": [
    "fig, ax = plt.subplots()\n",
    "ax.boxplot([underweight[\"LungFunctionFEV1\"], normal_weight[\"LungFunctionFEV1\"], overweight[\"LungFunctionFEV1\"], obese[\"LungFunctionFEV1\"]])\n",
    "\n",
    "ax.set_xticklabels([\"Underweight\", \"Normal weight\", \"Overweight\", \"Obese\"])\n",
    "ax.set_ylabel(\"Lung function\")\n",
    "\n",
    "plt.show()\n"
   ]
  },
  {
   "cell_type": "markdown",
   "metadata": {},
   "source": [
    "#### Hulosa qilib aytadigan bo'lsak normal lung function(fev1) (4.5 to 3.5 liters in males and from 3.25 to 2.5 liters in females) ga nisbatan asmatiklarda nafas olishda yutiladigan havo miqdori past. "
   ]
  },
  {
   "cell_type": "markdown",
   "metadata": {},
   "source": [
    "### Problem 5: Physical Activity Levels\n",
    "Create a bar chart to visualize the average physical activity levels for patients with and without asthma diagnoses."
   ]
  },
  {
   "cell_type": "code",
   "execution_count": 84,
   "metadata": {},
   "outputs": [
    {
     "data": {
      "text/plain": [
       "Text(0, 0.5, 'Physical activity')"
      ]
     },
     "execution_count": 84,
     "metadata": {},
     "output_type": "execute_result"
    },
    {
     "data": {
      "image/png": "[encoded data removed]",
      "text/plain": [
       "<Figure size 640x480 with 1 Axes>"
      ]
     },
     "metadata": {},
     "output_type": "display_data"
    }
   ],
   "source": [
    "diagnosis_yes = df[df[\"Diagnosis\"] == 1]\n",
    "diagnosis_no = df[df[\"Diagnosis\"] == 0]\n",
    "\n",
    "fig, ax = plt.subplots()\n",
    "\n",
    "ax.bar(\"Diagnosed\", diagnosis_yes[\"PhysicalActivity\"].mean())\n",
    "ax.bar(\"Not diagnosed\", diagnosis_no[\"PhysicalActivity\"].mean())\n",
    "\n",
    "ax.set_title(\"Activity\")\n",
    "ax.set_ylabel(\"Physical activity\")"
   ]
  },
  {
   "cell_type": "markdown",
   "metadata": {},
   "source": [
    "#### Hulosa fizikal aktivlik 0 dan 10 gacha oraliqda beldilangan. Korinib turiptiki o'rtacha aktivlik 50 % atrofida. Demak Kasallanganlarda fizikal aktivlik past."
   ]
  }
 ],
 "metadata": {
  "kernelspec": {
   "display_name": "Python 3",
   "language": "python",
   "name": "python3"
  },
  "language_info": {
   "codemirror_mode": {
    "name": "ipython",
    "version": 3
   },
   "file_extension": ".py",
   "mimetype": "text/x-python",
   "name": "python",
   "nbconvert_exporter": "python",
   "pygments_lexer": "ipython3",
   "version": "3.9.6"
  }
 },
 "nbformat": 4,
 "nbformat_minor": 2
}
